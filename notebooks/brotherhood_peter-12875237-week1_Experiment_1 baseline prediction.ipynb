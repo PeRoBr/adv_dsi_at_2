{
 "cells": [
  {
   "cell_type": "code",
   "execution_count": 1,
   "id": "8a63b65b-db29-4423-9d01-7f0b9b1105cd",
   "metadata": {},
   "outputs": [],
   "source": [
    "import pandas as pd\n",
    "import numpy as np"
   ]
  },
  {
   "cell_type": "code",
   "execution_count": 2,
   "id": "dd5b618b-9b39-4d72-b5f6-7475b1ed2a69",
   "metadata": {},
   "outputs": [],
   "source": [
    "df = pd.read_csv('../data/raw/2022_train.csv')"
   ]
  },
  {
   "cell_type": "code",
   "execution_count": 3,
   "id": "e57e9e6f-ce25-482e-b0fa-90d95cd633ce",
   "metadata": {},
   "outputs": [],
   "source": [
    "df_cleaned = df.copy()"
   ]
  },
  {
   "cell_type": "code",
   "execution_count": 4,
   "id": "c4b0dc53-9fa7-4ef7-90ea-65717f899447",
   "metadata": {},
   "outputs": [],
   "source": [
    "df_cleaned.drop('Id', axis=1, inplace=True)"
   ]
  },
  {
   "cell_type": "code",
   "execution_count": 7,
   "id": "423ad311-ec0f-487f-83bd-7befff03b053",
   "metadata": {},
   "outputs": [
    {
     "data": {
      "text/plain": [
       "['GP',\n",
       " 'MIN',\n",
       " 'PTS',\n",
       " 'FGM',\n",
       " 'FGA',\n",
       " 'FG%',\n",
       " '3P Made',\n",
       " '3PA',\n",
       " '3P%',\n",
       " 'FTM',\n",
       " 'FTA',\n",
       " 'FT%',\n",
       " 'OREB',\n",
       " 'DREB',\n",
       " 'REB',\n",
       " 'AST',\n",
       " 'STL',\n",
       " 'BLK',\n",
       " 'TOV',\n",
       " 'TARGET_5Yrs']"
      ]
     },
     "execution_count": 7,
     "metadata": {},
     "output_type": "execute_result"
    }
   ],
   "source": [
    "list(df_cleaned.columns)"
   ]
  },
  {
   "cell_type": "code",
   "execution_count": 8,
   "id": "7d278c0f-ca23-4f31-bfa6-59c56b3fef66",
   "metadata": {},
   "outputs": [],
   "source": [
    "TARGET_5Yrs = df_cleaned.pop('TARGET_5Yrs')"
   ]
  },
  {
   "cell_type": "code",
   "execution_count": 9,
   "id": "79347175-230a-4549-99ce-48592ccd507d",
   "metadata": {},
   "outputs": [],
   "source": [
    "from sklearn.preprocessing import StandardScaler"
   ]
  },
  {
   "cell_type": "code",
   "execution_count": 10,
   "id": "afa6d8d8-5b86-4939-af24-9a23b3cf46e2",
   "metadata": {},
   "outputs": [],
   "source": [
    "scaler = StandardScaler()"
   ]
  },
  {
   "cell_type": "code",
   "execution_count": 11,
   "id": "eecacd22-4ff7-41e1-b92b-f7f638dd4351",
   "metadata": {},
   "outputs": [
    {
     "data": {
      "text/plain": [
       "['GP',\n",
       " 'MIN',\n",
       " 'PTS',\n",
       " 'FGM',\n",
       " 'FGA',\n",
       " 'FG%',\n",
       " '3P Made',\n",
       " '3PA',\n",
       " '3P%',\n",
       " 'FTM',\n",
       " 'FTA',\n",
       " 'FT%',\n",
       " 'OREB',\n",
       " 'DREB',\n",
       " 'REB',\n",
       " 'AST',\n",
       " 'STL',\n",
       " 'BLK',\n",
       " 'TOV']"
      ]
     },
     "execution_count": 11,
     "metadata": {},
     "output_type": "execute_result"
    }
   ],
   "source": [
    "list(df_cleaned.columns)"
   ]
  },
  {
   "cell_type": "code",
   "execution_count": 12,
   "id": "c9c21b67-0a17-480d-8beb-ed203a23855d",
   "metadata": {},
   "outputs": [],
   "source": [
    "df_cleaned = scaler.fit_transform(df_cleaned)"
   ]
  },
  {
   "cell_type": "code",
   "execution_count": 29,
   "id": "8df3d288-ff22-443a-9a7a-c5b7b0690374",
   "metadata": {},
   "outputs": [],
   "source": [
    "from joblib import dump\n",
    "from joblib import load"
   ]
  },
  {
   "cell_type": "code",
   "execution_count": 14,
   "id": "b01daa80-78e0-43ac-a268-65adef30f48c",
   "metadata": {},
   "outputs": [
    {
     "data": {
      "text/plain": [
       "['../models/scaler.joblib']"
      ]
     },
     "execution_count": 14,
     "metadata": {},
     "output_type": "execute_result"
    }
   ],
   "source": [
    "dump(scaler, '../models/scaler.joblib')"
   ]
  },
  {
   "cell_type": "code",
   "execution_count": 30,
   "id": "361e9e71-c454-486c-8dcd-f5731d9acab3",
   "metadata": {},
   "outputs": [],
   "source": [
    "scaler_load = load('../models/scaler.joblib')"
   ]
  },
  {
   "cell_type": "code",
   "execution_count": 15,
   "id": "a2651c88-994c-405e-93e1-6014cd5d2e0f",
   "metadata": {},
   "outputs": [],
   "source": [
    "from sklearn.model_selection import train_test_split"
   ]
  },
  {
   "cell_type": "code",
   "execution_count": 17,
   "id": "e4e1177a-b7b6-4a02-b048-9c911750625e",
   "metadata": {},
   "outputs": [],
   "source": [
    "X_data, X_test, y_data, y_test = train_test_split (df_cleaned, TARGET_5Yrs, test_size=0.2, random_state=8)"
   ]
  },
  {
   "cell_type": "code",
   "execution_count": 18,
   "id": "b689f37d-f0d7-4040-ab90-9090dc4d2742",
   "metadata": {},
   "outputs": [],
   "source": [
    "X_train, X_val, y_train, y_val = train_test_split(X_data, y_data, test_size=0.2, random_state=8)"
   ]
  },
  {
   "cell_type": "code",
   "execution_count": 19,
   "id": "94ea2b51-b9dd-4ca4-917d-fcda6aa10990",
   "metadata": {},
   "outputs": [],
   "source": [
    "np.save('../data/processed/X_train', X_train)\n",
    "np.save('../data/processed/X_val',   X_val)\n",
    "np.save('../data/processed/X_test',  X_test)\n",
    "np.save('../data/processed/y_train', y_train)\n",
    "np.save('../data/processed/y_val',   y_val)\n",
    "np.save('../data/processed/y_test',  y_test)"
   ]
  },
  {
   "cell_type": "code",
   "execution_count": 25,
   "id": "1524ad7d-8d03-49f3-a71a-b331cc18585a",
   "metadata": {},
   "outputs": [
    {
     "data": {
      "text/plain": [
       "0.837109375"
      ]
     },
     "execution_count": 25,
     "metadata": {},
     "output_type": "execute_result"
    }
   ],
   "source": [
    "y_mean = y_train.mean()\n",
    "y_mean"
   ]
  },
  {
   "cell_type": "code",
   "execution_count": 26,
   "id": "7d68b9db-e736-4b14-9bd2-8c3e33f27446",
   "metadata": {},
   "outputs": [
    {
     "data": {
      "text/plain": [
       "1.0"
      ]
     },
     "execution_count": 26,
     "metadata": {},
     "output_type": "execute_result"
    }
   ],
   "source": [
    "y_median = y_train.median()\n",
    "y_median"
   ]
  },
  {
   "cell_type": "code",
   "execution_count": 27,
   "id": "3684a4bd-9be1-4cf3-bcb0-01b2b1dd0330",
   "metadata": {},
   "outputs": [],
   "source": [
    "y_base = np.full((len(y_train), 1), y_mean)\n",
    "y_base_med = np.full((len(y_train), 1), y_median)"
   ]
  },
  {
   "cell_type": "code",
   "execution_count": 23,
   "id": "55397232-dddc-4b98-b92c-9e842335ee40",
   "metadata": {},
   "outputs": [],
   "source": [
    "from sklearn.metrics import mean_squared_error as mse\n",
    "from sklearn.metrics import mean_absolute_error as mae"
   ]
  },
  {
   "cell_type": "code",
   "execution_count": 28,
   "id": "62a1ba2e-dc92-4d86-84d6-36aa3ee70f9f",
   "metadata": {},
   "outputs": [
    {
     "name": "stdout",
     "output_type": "stream",
     "text": [
      "0.3692658517749907\n",
      "0.27271453857421873\n",
      "0.4035971072740735\n",
      "0.162890625\n"
     ]
    }
   ],
   "source": [
    "print(mse(y_train, y_base, squared=False))\n",
    "print(mae(y_train, y_base))\n",
    "print(mse(y_train, y_base_med, squared=False))\n",
    "print(mae(y_train, y_base_med))"
   ]
  },
  {
   "cell_type": "code",
   "execution_count": null,
   "id": "ff084cca-6512-4a92-aec7-a32e9bc6e263",
   "metadata": {},
   "outputs": [],
   "source": []
  },
  {
   "cell_type": "code",
   "execution_count": null,
   "id": "f3d2cf55-1365-4e7b-8134-5fef1a01cc8e",
   "metadata": {},
   "outputs": [],
   "source": []
  },
  {
   "cell_type": "code",
   "execution_count": null,
   "id": "9b9bb313-a4ca-4d3d-b790-18cef97cb4c5",
   "metadata": {},
   "outputs": [],
   "source": []
  },
  {
   "cell_type": "code",
   "execution_count": null,
   "id": "efa94d79-570f-4904-a0c0-c39d18adf347",
   "metadata": {},
   "outputs": [],
   "source": []
  },
  {
   "cell_type": "code",
   "execution_count": null,
   "id": "4a0a1e24-199b-4a92-bc30-8e23357b76c1",
   "metadata": {},
   "outputs": [],
   "source": []
  }
 ],
 "metadata": {
  "kernelspec": {
   "display_name": "Python 3 (ipykernel)",
   "language": "python",
   "name": "python3"
  },
  "language_info": {
   "codemirror_mode": {
    "name": "ipython",
    "version": 3
   },
   "file_extension": ".py",
   "mimetype": "text/x-python",
   "name": "python",
   "nbconvert_exporter": "python",
   "pygments_lexer": "ipython3",
   "version": "3.8.13"
  }
 },
 "nbformat": 4,
 "nbformat_minor": 5
}
