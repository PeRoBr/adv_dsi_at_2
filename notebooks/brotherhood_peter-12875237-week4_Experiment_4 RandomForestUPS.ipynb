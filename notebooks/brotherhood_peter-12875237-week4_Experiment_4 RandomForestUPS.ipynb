{
 "cells": [
  {
   "cell_type": "markdown",
   "id": "98f4c86c-5e0f-4d90-a25c-849cfca77a78",
   "metadata": {},
   "source": [
    " ### Manual grid search for random forest - for direct comparison betwen training data balaced by upsampling and SMOTE \n",
    " \n",
    " Note that for this series of experientrs with random forest the data was not scaled first."
   ]
  },
  {
   "cell_type": "code",
   "execution_count": 5,
   "id": "d7724121-9e11-4393-b7a5-155755d1d59d",
   "metadata": {},
   "outputs": [],
   "source": [
    "import pandas as pd\n",
    "import numpy as np\n",
    "from joblib import dump\n",
    "\n",
    "from sklearn.ensemble import RandomForestClassifier\n",
    "\n",
    "from collections import Counter"
   ]
  },
  {
   "cell_type": "code",
   "execution_count": 6,
   "id": "428d65eb-925a-43ab-8318-046ae967e567",
   "metadata": {},
   "outputs": [],
   "source": [
    "# load unscaled SMOTE and upsampled datasets\n",
    "\n",
    "X_SMOTE = np.load('../data/processed/X_SMOTE.npy')\n",
    "y_SMOTE = np.load('../data/processed/y_SMOTE.npy')\n",
    "\n",
    "X_data_ups = np.load('../data/processed/X_data_ups.npy')\n",
    "y_data_ups = np.load('../data/processed/y_data_ups.npy')\n",
    "\n",
    "\n",
    "X_test = np.load('../data/processed/X_test_SMOTE.npy')\n",
    "y_test = np.load('../data/processed/y_test_SMOTE.npy')"
   ]
  },
  {
   "cell_type": "code",
   "execution_count": 7,
   "id": "9b029b9a-d139-4c1c-af82-1dd18fad7f12",
   "metadata": {},
   "outputs": [
    {
     "name": "stdout",
     "output_type": "stream",
     "text": [
      "(10652, 19)\n",
      "(10652,)\n",
      "(10652, 19)\n",
      "(10652,)\n",
      "(1600, 19)\n",
      "(1600,)\n",
      "Counter({1: 5326, 0: 5326})\n",
      "Counter({1: 5326, 0: 5326})\n",
      "Counter({1: 1343, 0: 257})\n"
     ]
    }
   ],
   "source": [
    "print(X_SMOTE.shape)\n",
    "print(y_SMOTE.shape)\n",
    "print(X_data_ups.shape)\n",
    "print(y_data_ups.shape)\n",
    "print(X_test.shape)\n",
    "print(y_test.shape)\n",
    "\n",
    "print(Counter(y_SMOTE))\n",
    "print(Counter(y_data_ups))\n",
    "print(Counter(y_test))"
   ]
  },
  {
   "cell_type": "markdown",
   "id": "d907e8bf-be7a-41b3-b233-5a795d9bdf15",
   "metadata": {},
   "source": [
    "### Manual grid style search of important hyperparameters"
   ]
  },
  {
   "cell_type": "code",
   "execution_count": 9,
   "id": "31de1574-a83c-4051-bc4c-473ec971491f",
   "metadata": {},
   "outputs": [
    {
     "data": {
      "text/html": [
       "<style>#sk-container-id-2 {color: black;background-color: white;}#sk-container-id-2 pre{padding: 0;}#sk-container-id-2 div.sk-toggleable {background-color: white;}#sk-container-id-2 label.sk-toggleable__label {cursor: pointer;display: block;width: 100%;margin-bottom: 0;padding: 0.3em;box-sizing: border-box;text-align: center;}#sk-container-id-2 label.sk-toggleable__label-arrow:before {content: \"▸\";float: left;margin-right: 0.25em;color: #696969;}#sk-container-id-2 label.sk-toggleable__label-arrow:hover:before {color: black;}#sk-container-id-2 div.sk-estimator:hover label.sk-toggleable__label-arrow:before {color: black;}#sk-container-id-2 div.sk-toggleable__content {max-height: 0;max-width: 0;overflow: hidden;text-align: left;background-color: #f0f8ff;}#sk-container-id-2 div.sk-toggleable__content pre {margin: 0.2em;color: black;border-radius: 0.25em;background-color: #f0f8ff;}#sk-container-id-2 input.sk-toggleable__control:checked~div.sk-toggleable__content {max-height: 200px;max-width: 100%;overflow: auto;}#sk-container-id-2 input.sk-toggleable__control:checked~label.sk-toggleable__label-arrow:before {content: \"▾\";}#sk-container-id-2 div.sk-estimator input.sk-toggleable__control:checked~label.sk-toggleable__label {background-color: #d4ebff;}#sk-container-id-2 div.sk-label input.sk-toggleable__control:checked~label.sk-toggleable__label {background-color: #d4ebff;}#sk-container-id-2 input.sk-hidden--visually {border: 0;clip: rect(1px 1px 1px 1px);clip: rect(1px, 1px, 1px, 1px);height: 1px;margin: -1px;overflow: hidden;padding: 0;position: absolute;width: 1px;}#sk-container-id-2 div.sk-estimator {font-family: monospace;background-color: #f0f8ff;border: 1px dotted black;border-radius: 0.25em;box-sizing: border-box;margin-bottom: 0.5em;}#sk-container-id-2 div.sk-estimator:hover {background-color: #d4ebff;}#sk-container-id-2 div.sk-parallel-item::after {content: \"\";width: 100%;border-bottom: 1px solid gray;flex-grow: 1;}#sk-container-id-2 div.sk-label:hover label.sk-toggleable__label {background-color: #d4ebff;}#sk-container-id-2 div.sk-serial::before {content: \"\";position: absolute;border-left: 1px solid gray;box-sizing: border-box;top: 0;bottom: 0;left: 50%;z-index: 0;}#sk-container-id-2 div.sk-serial {display: flex;flex-direction: column;align-items: center;background-color: white;padding-right: 0.2em;padding-left: 0.2em;position: relative;}#sk-container-id-2 div.sk-item {position: relative;z-index: 1;}#sk-container-id-2 div.sk-parallel {display: flex;align-items: stretch;justify-content: center;background-color: white;position: relative;}#sk-container-id-2 div.sk-item::before, #sk-container-id-2 div.sk-parallel-item::before {content: \"\";position: absolute;border-left: 1px solid gray;box-sizing: border-box;top: 0;bottom: 0;left: 50%;z-index: -1;}#sk-container-id-2 div.sk-parallel-item {display: flex;flex-direction: column;z-index: 1;position: relative;background-color: white;}#sk-container-id-2 div.sk-parallel-item:first-child::after {align-self: flex-end;width: 50%;}#sk-container-id-2 div.sk-parallel-item:last-child::after {align-self: flex-start;width: 50%;}#sk-container-id-2 div.sk-parallel-item:only-child::after {width: 0;}#sk-container-id-2 div.sk-dashed-wrapped {border: 1px dashed gray;margin: 0 0.4em 0.5em 0.4em;box-sizing: border-box;padding-bottom: 0.4em;background-color: white;}#sk-container-id-2 div.sk-label label {font-family: monospace;font-weight: bold;display: inline-block;line-height: 1.2em;}#sk-container-id-2 div.sk-label-container {text-align: center;}#sk-container-id-2 div.sk-container {/* jupyter's `normalize.less` sets `[hidden] { display: none; }` but bootstrap.min.css set `[hidden] { display: none !important; }` so we also need the `!important` here to be able to override the default hidden behavior on the sphinx rendered scikit-learn.org. See: https://github.com/scikit-learn/scikit-learn/issues/21755 */display: inline-block !important;position: relative;}#sk-container-id-2 div.sk-text-repr-fallback {display: none;}</style><div id=\"sk-container-id-2\" class=\"sk-top-container\"><div class=\"sk-text-repr-fallback\"><pre>RandomForestClassifier(max_features=3, min_samples_leaf=200, n_estimators=5000)</pre><b>In a Jupyter environment, please rerun this cell to show the HTML representation or trust the notebook. <br />On GitHub, the HTML representation is unable to render, please try loading this page with nbviewer.org.</b></div><div class=\"sk-container\" hidden><div class=\"sk-item\"><div class=\"sk-estimator sk-toggleable\"><input class=\"sk-toggleable__control sk-hidden--visually\" id=\"sk-estimator-id-2\" type=\"checkbox\" checked><label for=\"sk-estimator-id-2\" class=\"sk-toggleable__label sk-toggleable__label-arrow\">RandomForestClassifier</label><div class=\"sk-toggleable__content\"><pre>RandomForestClassifier(max_features=3, min_samples_leaf=200, n_estimators=5000)</pre></div></div></div></div></div>"
      ],
      "text/plain": [
       "RandomForestClassifier(max_features=3, min_samples_leaf=200, n_estimators=5000)"
      ]
     },
     "execution_count": 9,
     "metadata": {},
     "output_type": "execute_result"
    }
   ],
   "source": [
    "ups_rf10 = RandomForestClassifier(n_estimators = 1000, min_samples_leaf = 5)\n",
    "ups_rf10.fit(X_data_ups, y_data_ups)\n",
    "\n",
    "ups_rf20 = RandomForestClassifier(n_estimators = 1000, min_samples_leaf = 10)\n",
    "ups_rf20.fit(X_data_ups, y_data_ups)\n",
    "\n",
    "ups_rf30 = RandomForestClassifier(n_estimators = 1000, min_samples_leaf = 20)\n",
    "ups_rf30.fit(X_data_ups, y_data_ups)\n",
    "\n",
    "ups_rf40 = RandomForestClassifier(n_estimators = 1000, min_samples_leaf = 40)\n",
    "ups_rf40.fit(X_data_ups, y_data_ups)\n",
    "\n",
    "ups_rf50 = RandomForestClassifier(n_estimators = 5000, min_samples_leaf = 40)\n",
    "ups_rf50.fit(X_data_ups, y_data_ups)\n",
    "\n",
    "ups_rf60 = RandomForestClassifier(n_estimators = 5000, min_samples_leaf = 100)\n",
    "ups_rf60.fit(X_data_ups, y_data_ups)\n",
    "\n",
    "ups_rf70 = RandomForestClassifier(n_estimators = 5000, min_samples_leaf = 200)\n",
    "ups_rf70.fit(X_data_ups, y_data_ups)\n",
    "\n",
    "ups_rf80 = RandomForestClassifier(n_estimators = 5000, min_samples_leaf = 500)\n",
    "ups_rf80.fit(X_data_ups, y_data_ups)\n",
    "\n",
    "ups_rf90 = RandomForestClassifier(n_estimators = 5000, min_samples_leaf = 200, max_features = 4)\n",
    "ups_rf90.fit(X_data_ups, y_data_ups)\n",
    "\n",
    "ups_rf100 = RandomForestClassifier(n_estimators = 5000, min_samples_leaf = 200, max_features = 5)\n",
    "ups_rf100.fit(X_data_ups, y_data_ups)\n",
    "\n",
    "ups_rf110 = RandomForestClassifier(n_estimators = 5000, min_samples_leaf = 200, max_features = 6)\n",
    "ups_rf110.fit(X_data_ups, y_data_ups)\n",
    "\n",
    "ups_rf120 = RandomForestClassifier(n_estimators = 5000, min_samples_leaf = 200, max_features = 7)\n",
    "ups_rf120.fit(X_data_ups, y_data_ups)\n",
    "\n",
    "ups_rf130 = RandomForestClassifier(n_estimators = 5000, min_samples_leaf = 200, max_features = 8)\n",
    "ups_rf130.fit(X_data_ups, y_data_ups)\n",
    "\n",
    "ups_rf140 = RandomForestClassifier(n_estimators = 5000, min_samples_leaf = 200, max_features = 3) # note max_features = 3 here \n",
    "ups_rf140.fit(X_data_ups, y_data_ups)\n"
   ]
  },
  {
   "cell_type": "code",
   "execution_count": 10,
   "id": "14246760-91c2-45df-8cbb-04fe8af94636",
   "metadata": {},
   "outputs": [
    {
     "data": {
      "text/plain": [
       "['../models/rf140_ups.joblib']"
      ]
     },
     "execution_count": 10,
     "metadata": {},
     "output_type": "execute_result"
    }
   ],
   "source": [
    "dump(ups_rf10, '../models/rf10_ups.joblib')\n",
    "dump(ups_rf20, '../models/rf20_ups.joblib')\n",
    "dump(ups_rf30, '../models/rf30_ups.joblib')\n",
    "dump(ups_rf40, '../models/rf40_ups.joblib')\n",
    "dump(ups_rf50, '../models/rf50_ups.joblib')\n",
    "dump(ups_rf60, '../models/rf60_ups.joblib')\n",
    "dump(ups_rf70, '../models/rf70_ups.joblib')\n",
    "dump(ups_rf80, '../models/rf80_ups.joblib')\n",
    "dump(ups_rf90, '../models/rf90_ups.joblib')\n",
    "dump(ups_rf100, '../models/rf100_ups.joblib')\n",
    "dump(ups_rf110, '../models/rf110_ups.joblib')\n",
    "dump(ups_rf120, '../models/rf120_ups.joblib')\n",
    "dump(ups_rf130, '../models/rf130_ups.joblib')\n",
    "dump(ups_rf140, '../models/rf140_ups.joblib')"
   ]
  },
  {
   "cell_type": "markdown",
   "id": "6dc52987-4e6b-449b-8e3b-50d71e56cf57",
   "metadata": {},
   "source": [
    "### Calculate AUROC for all models"
   ]
  },
  {
   "cell_type": "code",
   "execution_count": 11,
   "id": "6372c9cd-c09d-49b6-8183-60349e6c2a3b",
   "metadata": {},
   "outputs": [],
   "source": [
    "from sklearn.metrics import roc_auc_score\n",
    "from sklearn.metrics import accuracy_score"
   ]
  },
  {
   "cell_type": "code",
   "execution_count": 12,
   "id": "93a2a07f-2986-4615-b527-48dd18eb7f9d",
   "metadata": {},
   "outputs": [
    {
     "data": {
      "text/plain": [
       "Counter({0: 257, 1: 1343})"
      ]
     },
     "execution_count": 12,
     "metadata": {},
     "output_type": "execute_result"
    }
   ],
   "source": [
    "target = np.array(y_test)\n",
    "Counter(target)"
   ]
  },
  {
   "cell_type": "code",
   "execution_count": 13,
   "id": "3cc9001c-b1ba-48c6-ab42-6d9f95b572a9",
   "metadata": {},
   "outputs": [
    {
     "name": "stdout",
     "output_type": "stream",
     "text": [
      "ups_rf10: 0.6852826733806363\n",
      "ups_rf20: 0.6886493158067049\n",
      "ups_rf30: 0.692798224545199\n",
      "ups_rf40: 0.6978365990537475\n",
      "ups_rf50: 0.6974309794843416\n",
      "ups_rf60: 0.7024722512755286\n",
      "ups_rf70: 0.7048798931482163\n",
      "ups_rf80: 0.7027011366039791\n",
      "ups_rf90: 0.7048943795614093\n",
      "ups_rf100: 0.7049552224968203\n",
      "ups_rf110: 0.7043294094468798\n",
      "ups_rf120: 0.703796309441375\n",
      "ups_rf130: 0.7033356415018355\n",
      "ups_rf140: 0.7037296719406867\n"
     ]
    }
   ],
   "source": [
    "df_pred_ups_10 = pd.DataFrame(ups_rf10.predict_proba(X_test))\n",
    "df_pred_ups_20 = pd.DataFrame(ups_rf20.predict_proba(X_test))\n",
    "df_pred_ups_30 = pd.DataFrame(ups_rf30.predict_proba(X_test))\n",
    "df_pred_ups_40 = pd.DataFrame(ups_rf40.predict_proba(X_test))\n",
    "df_pred_ups_50 = pd.DataFrame(ups_rf50.predict_proba(X_test))\n",
    "df_pred_ups_60 = pd.DataFrame(ups_rf60.predict_proba(X_test))\n",
    "df_pred_ups_70 = pd.DataFrame(ups_rf70.predict_proba(X_test))\n",
    "df_pred_ups_80 = pd.DataFrame(ups_rf80.predict_proba(X_test))\n",
    "df_pred_ups_90 = pd.DataFrame(ups_rf90.predict_proba(X_test))\n",
    "df_pred_ups_100 = pd.DataFrame(ups_rf100.predict_proba(X_test))\n",
    "df_pred_ups_110 = pd.DataFrame(ups_rf110.predict_proba(X_test))\n",
    "df_pred_ups_120 = pd.DataFrame(ups_rf120.predict_proba(X_test))\n",
    "df_pred_ups_130 = pd.DataFrame(ups_rf130.predict_proba(X_test))\n",
    "df_pred_ups_140 = pd.DataFrame(ups_rf140.predict_proba(X_test))\n",
    "\n",
    "pred_ups_probs10 = np.array(df_pred_ups_10[1])\n",
    "pred_ups_probs20 = np.array(df_pred_ups_20[1])\n",
    "pred_ups_probs30 = np.array(df_pred_ups_30[1])\n",
    "pred_ups_probs40 = np.array(df_pred_ups_40[1])\n",
    "pred_ups_probs50 = np.array(df_pred_ups_50[1])\n",
    "pred_ups_probs60 = np.array(df_pred_ups_60[1])\n",
    "pred_ups_probs70 = np.array(df_pred_ups_70[1])\n",
    "pred_ups_probs80 = np.array(df_pred_ups_80[1])\n",
    "pred_ups_probs90 = np.array(df_pred_ups_90[1])\n",
    "pred_ups_probs100 = np.array(df_pred_ups_100[1])\n",
    "pred_ups_probs110 = np.array(df_pred_ups_110[1])\n",
    "pred_ups_probs120 = np.array(df_pred_ups_120[1])\n",
    "pred_ups_probs130 = np.array(df_pred_ups_130[1])\n",
    "pred_ups_probs140 = np.array(df_pred_ups_140[1])\n",
    "\n",
    "print('ups_rf10:', roc_auc_score(target, pred_ups_probs10))\n",
    "print('ups_rf20:', roc_auc_score(target, pred_ups_probs20))\n",
    "print('ups_rf30:', roc_auc_score(target, pred_ups_probs30))\n",
    "print('ups_rf40:', roc_auc_score(target, pred_ups_probs40))\n",
    "print('ups_rf50:', roc_auc_score(target, pred_ups_probs50))\n",
    "print('ups_rf60:', roc_auc_score(target, pred_ups_probs60))\n",
    "print('ups_rf70:', roc_auc_score(target, pred_ups_probs70))\n",
    "print('ups_rf80:', roc_auc_score(target, pred_ups_probs80))\n",
    "print('ups_rf90:', roc_auc_score(target, pred_ups_probs90)) \n",
    "print('ups_rf100:', roc_auc_score(target, pred_ups_probs100)) # top performer with upsampled data, still ery close to SMOTE, but a small improvemet\n",
    "print('ups_rf110:', roc_auc_score(target, pred_ups_probs110))\n",
    "print('ups_rf120:', roc_auc_score(target, pred_ups_probs120))\n",
    "print('ups_rf130:', roc_auc_score(target, pred_ups_probs130))\n",
    "print('ups_rf140:', roc_auc_score(target, pred_ups_probs140))\n",
    "\n"
   ]
  },
  {
   "cell_type": "code",
   "execution_count": 22,
   "id": "bf0d9f05-1a16-4037-8bbf-e58c535ae90a",
   "metadata": {},
   "outputs": [
    {
     "name": "stdout",
     "output_type": "stream",
     "text": [
      "ups_rf100: 0.7452778433094285\n"
     ]
    }
   ],
   "source": [
    "df_pred_ups_100_train = pd.DataFrame(ups_rf100.predict_proba(X_data_ups))\n",
    "pred_ups_probs100_train = np.array(df_pred_ups_100_train[1])\n",
    "print('ups_rf100:', roc_auc_score(y_data_ups, pred_ups_probs100_train)) # top performer with upsampled data, still ery close to SMOTE, but a small improvemet"
   ]
  },
  {
   "cell_type": "markdown",
   "id": "8f30b5ea-8a12-4f5a-bdc5-8f523ca6efa6",
   "metadata": {},
   "source": [
    "### Make preditions on unlabelled kaggle data"
   ]
  },
  {
   "cell_type": "code",
   "execution_count": 14,
   "id": "bd40d2d1-6793-489f-a2cd-8610d29e8a84",
   "metadata": {},
   "outputs": [],
   "source": [
    "df_te = pd.read_csv('../data/raw/2022_test.csv')"
   ]
  },
  {
   "cell_type": "code",
   "execution_count": 15,
   "id": "74ea3f43-71f0-4a26-90a6-f926c3980ced",
   "metadata": {},
   "outputs": [],
   "source": [
    "df_te_cleaned = df_te.copy()"
   ]
  },
  {
   "cell_type": "code",
   "execution_count": 16,
   "id": "c57685b6-e836-4964-88ea-0623a1c12d71",
   "metadata": {},
   "outputs": [],
   "source": [
    "df_te_cleaned.drop('Id', axis=1, inplace=True)"
   ]
  },
  {
   "cell_type": "code",
   "execution_count": 17,
   "id": "9140264b-a603-43d4-8d73-1e21ff848292",
   "metadata": {},
   "outputs": [
    {
     "name": "stdout",
     "output_type": "stream",
     "text": [
      "['GP', 'MIN', 'PTS', 'FGM', 'FGA', 'FG%', '3P Made', '3PA', '3P%', 'FTM', 'FTA', 'FT%', 'OREB', 'DREB', 'REB', 'AST', 'STL', 'BLK', 'TOV']\n",
      "(3799, 19)\n"
     ]
    }
   ],
   "source": [
    "print(list(df_te_cleaned.columns))\n",
    "print(df_te_cleaned.shape)"
   ]
  },
  {
   "cell_type": "code",
   "execution_count": 18,
   "id": "4ae1bd2b-2a21-43ed-b400-dbbecec47957",
   "metadata": {},
   "outputs": [
    {
     "name": "stderr",
     "output_type": "stream",
     "text": [
      "/opt/conda/lib/python3.8/site-packages/sklearn/base.py:443: UserWarning: X has feature names, but RandomForestClassifier was fitted without feature names\n",
      "  warnings.warn(\n"
     ]
    },
    {
     "data": {
      "text/plain": [
       "Counter({0: 1458, 1: 2341})"
      ]
     },
     "execution_count": 18,
     "metadata": {},
     "output_type": "execute_result"
    }
   ],
   "source": [
    "Counter(ups_rf100.predict(df_te_cleaned))"
   ]
  },
  {
   "cell_type": "code",
   "execution_count": 19,
   "id": "695791de-27f3-42c0-9caf-04a41ed65e96",
   "metadata": {},
   "outputs": [
    {
     "name": "stderr",
     "output_type": "stream",
     "text": [
      "/opt/conda/lib/python3.8/site-packages/sklearn/base.py:443: UserWarning: X has feature names, but RandomForestClassifier was fitted without feature names\n",
      "  warnings.warn(\n"
     ]
    },
    {
     "data": {
      "text/plain": [
       "array([[0.56389165, 0.43610835],\n",
       "       [0.52406616, 0.47593384],\n",
       "       [0.23989001, 0.76010999],\n",
       "       ...,\n",
       "       [0.64897364, 0.35102636],\n",
       "       [0.26165944, 0.73834056],\n",
       "       [0.52751007, 0.47248993]])"
      ]
     },
     "execution_count": 19,
     "metadata": {},
     "output_type": "execute_result"
    }
   ],
   "source": [
    "ups_rf100.predict_proba(df_te_cleaned)"
   ]
  },
  {
   "cell_type": "code",
   "execution_count": 20,
   "id": "58a4b49e-b057-4187-ad18-94093c8a4013",
   "metadata": {},
   "outputs": [
    {
     "name": "stderr",
     "output_type": "stream",
     "text": [
      "/opt/conda/lib/python3.8/site-packages/sklearn/base.py:443: UserWarning: X has feature names, but RandomForestClassifier was fitted without feature names\n",
      "  warnings.warn(\n"
     ]
    }
   ],
   "source": [
    "df_pred_ups_rf100 = pd.DataFrame(ups_rf100.predict_proba(df_te_cleaned))"
   ]
  },
  {
   "cell_type": "code",
   "execution_count": 21,
   "id": "a4e56063-9280-4db9-a357-d48fc218071d",
   "metadata": {},
   "outputs": [],
   "source": [
    "df_pred_ups_rf100[1].to_csv('../data/processed/ups_rf100.csv')"
   ]
  },
  {
   "cell_type": "code",
   "execution_count": null,
   "id": "fadeb4fe-712f-4d43-8c71-d56412a8176b",
   "metadata": {},
   "outputs": [],
   "source": []
  }
 ],
 "metadata": {
  "kernelspec": {
   "display_name": "Python 3 (ipykernel)",
   "language": "python",
   "name": "python3"
  },
  "language_info": {
   "codemirror_mode": {
    "name": "ipython",
    "version": 3
   },
   "file_extension": ".py",
   "mimetype": "text/x-python",
   "name": "python",
   "nbconvert_exporter": "python",
   "pygments_lexer": "ipython3",
   "version": "3.8.13"
  }
 },
 "nbformat": 4,
 "nbformat_minor": 5
}
