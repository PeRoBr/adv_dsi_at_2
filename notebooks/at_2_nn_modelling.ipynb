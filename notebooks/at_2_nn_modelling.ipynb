{
 "cells": [
  {
   "cell_type": "markdown",
   "id": "6b107422-bcbc-43af-b7ad-b45f806b5f26",
   "metadata": {},
   "source": [
    "# ADV_DSI_AT2 - Training a pytorch neural network to predict"
   ]
  },
  {
   "cell_type": "code",
   "execution_count": null,
   "id": "461e8670-bfc5-4d39-95e5-9c8ebeba786e",
   "metadata": {},
   "outputs": [],
   "source": []
  }
 ],
 "metadata": {
  "kernelspec": {
   "display_name": "Python 3 (ipykernel)",
   "language": "python",
   "name": "python3"
  },
  "language_info": {
   "codemirror_mode": {
    "name": "ipython",
    "version": 3
   },
   "file_extension": ".py",
   "mimetype": "text/x-python",
   "name": "python",
   "nbconvert_exporter": "python",
   "pygments_lexer": "ipython3",
   "version": "3.8.13"
  }
 },
 "nbformat": 4,
 "nbformat_minor": 5
}
