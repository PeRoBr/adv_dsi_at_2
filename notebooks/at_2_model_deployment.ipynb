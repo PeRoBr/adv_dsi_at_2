{
 "cells": [
  {
   "cell_type": "markdown",
   "id": "d303529d-48eb-4ebd-8373-5ebf0d07f314",
   "metadata": {},
   "source": [
    "# ADV_DSI_AT2 - Deploy model to Heroku"
   ]
  },
  {
   "cell_type": "code",
   "execution_count": null,
   "id": "afba8375-c2fe-4942-abd1-7ebabcc05536",
   "metadata": {},
   "outputs": [],
   "source": []
  },
  {
   "cell_type": "code",
   "execution_count": null,
   "id": "3bc0473a-cb29-451a-b670-c0515144b296",
   "metadata": {},
   "outputs": [],
   "source": [
    "preprocessor = load('../models/preprocessor.joblib')\n",
    "model = torch.load(\"../models/pytorch_beer_classifier.pt\")"
   ]
  }
 ],
 "metadata": {
  "kernelspec": {
   "display_name": "Python 3 (ipykernel)",
   "language": "python",
   "name": "python3"
  },
  "language_info": {
   "codemirror_mode": {
    "name": "ipython",
    "version": 3
   },
   "file_extension": ".py",
   "mimetype": "text/x-python",
   "name": "python",
   "nbconvert_exporter": "python",
   "pygments_lexer": "ipython3",
   "version": "3.8.13"
  }
 },
 "nbformat": 4,
 "nbformat_minor": 5
}
